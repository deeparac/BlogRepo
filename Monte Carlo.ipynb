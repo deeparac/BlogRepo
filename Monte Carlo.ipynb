{
 "cells": [
  {
   "cell_type": "markdown",
   "metadata": {},
   "source": [
    "# Monte Carlo Implementation\n",
    "1. Importance Sampling\n",
    "2. Rejection Sampling\n",
    "3. Markov Chain Monte Carlo"
   ]
  },
  {
   "cell_type": "code",
   "execution_count": 79,
   "metadata": {},
   "outputs": [],
   "source": [
    "import numpy as np\n",
    "import matplotlib.pyplot as plt\n",
    "from scipy.stats import norm"
   ]
  },
  {
   "cell_type": "code",
   "execution_count": 91,
   "metadata": {},
   "outputs": [],
   "source": [
    "sample_size = 1000\n",
    "prior_paramaters = {\n",
    "    'mu': 0,\n",
    "    'sigma': 1\n",
    "}\n",
    "\n",
    "# distribution_supports -> interval [-5, 5]\n",
    "interval_width = 10\n",
    "samples = np.random.choice(interval_width, size=sample_size) - interval_width / 2\n",
    "\n",
    "prior_samplings = norm.pdf(samples,\n",
    "                           prior_paramaters['mu'],\n",
    "                           prior_paramaters['sigma'])\n",
    "\n",
    "\n",
    "likelihood_sample = [1/interval_width] * sample_size"
   ]
  },
  {
   "cell_type": "code",
   "execution_count": 92,
   "metadata": {},
   "outputs": [
    {
     "name": "stdout",
     "output_type": "stream",
     "text": [
      "Importance Sampling\n",
      "The estimated mean of posterior distribution is 0.04965368826701436\n",
      "Importance Sampling\n",
      "The estimated cumulative probability of posterior distribution given x < 4 is 0.9998860484695272\n"
     ]
    }
   ],
   "source": [
    "posterior_numerator = prior_samplings * likelihood_sample\n",
    "sampler_numerator = 1\n",
    "\n",
    "importance_weights = posterior_numerator / sampler_numerator\n",
    "\n",
    "# wanna approx E_p(x)\n",
    "approx_mean_func = lambda x: x\n",
    "approx_cdf_func = lambda x: x < cdf_upper\n",
    "func_vals = approx_mean_func(samples)\n",
    "func_hat = np.sum(importance_weights * func_vals) / np.sum(importance_weights)\n",
    "print(\"Importance Sampling\")\n",
    "print(\"The estimated mean of posterior distribution is {}\".format(func_hat))\n",
    "\n",
    "\n",
    "cdf_upper = 4\n",
    "approx_cdf_func = lambda x: x < cdf_upper\n",
    "func_vals = approx_cdf_func(samples)\n",
    "func_hat = np.sum(importance_weights * func_vals) / np.sum(importance_weights)\n",
    "print(\"Importance Sampling\")\n",
    "print(\"The estimated cumulative probability of posterior distribution given x < {} is {}\".format(cdf_upper, func_hat))"
   ]
  },
  {
   "cell_type": "code",
   "execution_count": 93,
   "metadata": {},
   "outputs": [
    {
     "name": "stdout",
     "output_type": "stream",
     "text": [
      "Rejection Sampling\n",
      "Samples from true distribution p\n"
     ]
    },
    {
     "data": {
      "image/png": "[encoded data removed]",
      "text/plain": [
       "<matplotlib.figure.Figure at 0x7ff3d4b50f60>"
      ]
     },
     "metadata": {},
     "output_type": "display_data"
    },
    {
     "name": "stdout",
     "output_type": "stream",
     "text": [
      "To notice that the inefficiency of this sampling,         the number of samples that are kept 70\n",
      "However, the discarded number is 930\n"
     ]
    }
   ],
   "source": [
    "def compute_constant_c(posterior_num, sampler_num):\n",
    "    c = max(posterior_num) / sampler_num + .1\n",
    "    return c\n",
    "\n",
    "c = compute_constant_c(posterior_numerator, sampler_numerator)\n",
    "interval_uppers = c * sampler_numerator\n",
    "\n",
    "masks = np.random.uniform(0, interval_uppers, size=sample_size) < posterior_numerator\n",
    "kept_samples = samples[masks]\n",
    "print(\"Rejection Sampling\")\n",
    "print(\"Samples from true distribution p\")\n",
    "plt.hist(kept_samples)\n",
    "plt.show()\n",
    "\n",
    "print(\"To notice that the inefficiency of this sampling, \\\n",
    "        the number of samples that are kept {}\".format(len(kept_samples)))\n",
    "print(\"However, the discarded number is {}\".format(sample_size - len(kept_samples)))"
   ]
  },
  {
   "cell_type": "code",
   "execution_count": 100,
   "metadata": {},
   "outputs": [
    {
     "name": "stdout",
     "output_type": "stream",
     "text": [
      "MCMC\n",
      "Samples from true distribution p\n",
      "[10, -2.0, -1.0, -1.0, -1.0, -1.0, 0.0, 0.0, 0.0, 0.0, 0.0, 1.0, 1.0, 1.0, 2.0, 2.0, 2.0, 0.0, 0.0, 0.0, 0.0, 0.0, 0.0, 0.0, 0.0, 0.0, 0.0, 0.0, 0.0, 0.0, 0.0, 1.0, 0.0, 0.0, 0.0, 0.0, 0.0, 0.0, 0.0, 0.0, 0.0, 0.0, 0.0, 0.0, 0.0, -1.0, 0.0, 0.0, 0.0, 0.0, 0.0, 0.0, 0.0, 0.0, 0.0, -1.0, -1.0, -1.0, -1.0, -1.0, 0.0, 0.0, 0.0, 0.0, 0.0, -1.0, 0.0, 0.0, 1.0, 0.0, 0.0, 0.0, 0.0, -1.0, 1.0, 0.0, 0.0, 0.0, 0.0, -1.0, 1.0, 0.0, 0.0, 0.0, 0.0, 0.0, 0.0, 0.0, 0.0, -1.0, -1.0, -1.0, -1.0, 1.0, 0.0, 0.0, 0.0, 0.0, 0.0, 0.0, 0.0]\n"
     ]
    }
   ],
   "source": [
    "state = 10\n",
    "\n",
    "def get_next_state(current_state, interval_width):\n",
    "    next_candidate = np.random.choice(interval_width) - interval_width / 2\n",
    "    sampler_prob = 1 / interval_width\n",
    "    pst_next = norm.pdf(next_candidate,\n",
    "                        prior_paramaters['mu'],\n",
    "                        prior_paramaters['sigma']) * 1 / interval_width\n",
    "    pst_curr = norm.pdf(current_state,\n",
    "                        prior_paramaters['mu'],\n",
    "                        prior_paramaters['sigma']) * 1 / interval_width\n",
    "    acceptance_prob = min(1, (pst_next) / (pst_curr))\n",
    "    \n",
    "    next_state = np.random.choice([next_candidate, current_state], \n",
    "                                  p=[acceptance_prob, 1-acceptance_prob])\n",
    "    return next_state\n",
    "    \n",
    "samples_list = []\n",
    "samples_list.append(state)\n",
    "for _ in range(100):    \n",
    "    state = get_next_state(state, interval_width)\n",
    "    samples_list.append(state)\n",
    "\n",
    "print(\"MCMC\")\n",
    "print(\"Samples from true distribution p\")\n",
    "print(samples_list)"
   ]
  },
  {
   "cell_type": "code",
   "execution_count": null,
   "metadata": {},
   "outputs": [],
   "source": []
  },
  {
   "cell_type": "code",
   "execution_count": null,
   "metadata": {},
   "outputs": [],
   "source": []
  },
  {
   "cell_type": "code",
   "execution_count": null,
   "metadata": {},
   "outputs": [],
   "source": []
  },
  {
   "cell_type": "code",
   "execution_count": null,
   "metadata": {},
   "outputs": [],
   "source": []
  }
 ],
 "metadata": {
  "kernelspec": {
   "display_name": "Python 3",
   "language": "python",
   "name": "python3"
  },
  "language_info": {
   "codemirror_mode": {
    "name": "ipython",
    "version": 3
   },
   "file_extension": ".py",
   "mimetype": "text/x-python",
   "name": "python",
   "nbconvert_exporter": "python",
   "pygments_lexer": "ipython3",
   "version": "3.5.4"
  }
 },
 "nbformat": 4,
 "nbformat_minor": 2
}
